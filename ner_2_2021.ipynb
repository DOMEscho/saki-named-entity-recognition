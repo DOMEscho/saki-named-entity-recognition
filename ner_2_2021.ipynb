{
  "nbformat": 4,
  "nbformat_minor": 0,
  "metadata": {
    "accelerator": "GPU",
    "colab": {
      "name": "Resumee_NER_Spacy.ipynb",
      "provenance": [],
      "collapsed_sections": [],
      "history_visible": true,
      "include_colab_link": true
    },
    "kernelspec": {
      "display_name": "Python 3",
      "language": "python",
      "name": "python3"
    },
    "language_info": {
      "codemirror_mode": {
        "name": "ipython",
        "version": 3
      },
      "file_extension": ".py",
      "mimetype": "text/x-python",
      "name": "python",
      "nbconvert_exporter": "python",
      "pygments_lexer": "ipython3",
      "version": "3.8.5"
    }
  },
  "cells": [
    {
      "cell_type": "markdown",
      "metadata": {
        "id": "view-in-github",
        "colab_type": "text"
      },
      "source": [
        "<a href=\"https://colab.research.google.com/github/DOMEscho/saki-named-entity-recognition/blob/main/ner_2_2021.ipynb\" target=\"_parent\"><img src=\"https://colab.research.google.com/assets/colab-badge.svg\" alt=\"Open In Colab\"/></a>"
      ]
    },
    {
      "cell_type": "markdown",
      "metadata": {
        "id": "7yjL03CKOoEk"
      },
      "source": [
        "Getting started with Spacy<br>\n",
        "Import data.<br>\n",
        "We repeat the preprocessing from the previous homework."
      ]
    },
    {
      "cell_type": "code",
      "metadata": {
        "colab": {
          "base_uri": "https://localhost:8080/"
        },
        "id": "vOxAAu3cOm9D",
        "outputId": "34e96936-5ff5-48ce-8595-8678bb852c74"
      },
      "source": [
        "from google.colab import drive\n",
        "drive.mount('/content/gdrive')"
      ],
      "execution_count": 2,
      "outputs": [
        {
          "output_type": "stream",
          "text": [
            "Mounted at /content/gdrive\n"
          ],
          "name": "stdout"
        }
      ]
    },
    {
      "cell_type": "code",
      "metadata": {
        "id": "HOc5LrSCPSEC"
      },
      "source": [
        "import os"
      ],
      "execution_count": 3,
      "outputs": []
    },
    {
      "cell_type": "code",
      "metadata": {
        "id": "jd_X8KyOPWlJ"
      },
      "source": [
        "os.chdir( \"/content/gdrive/MyDrive/flair\" ) "
      ],
      "execution_count": 4,
      "outputs": []
    },
    {
      "cell_type": "code",
      "metadata": {
        "id": "NBNxx2f8Pcmq"
      },
      "source": [
        "path_to_data = os.getcwd() + '/Entity Recognition in Resumes.json'"
      ],
      "execution_count": 5,
      "outputs": []
    },
    {
      "cell_type": "code",
      "metadata": {
        "id": "dUKwMlfkaR2n",
        "colab": {
          "base_uri": "https://localhost:8080/"
        },
        "outputId": "ed835577-78c8-4d76-d94e-e0fa6ad5588d"
      },
      "source": [
        "myfile = open( path_to_data, \"r\", encoding = \"utf-8\" )\n",
        "\n",
        "imported_data = []\n",
        "\n",
        "for datum in myfile:\n",
        "  # TODO process data\n",
        "  imported_data.append(datum)\n",
        "\n",
        "myfile.close()\n",
        "\n",
        "# TODO print first line\n",
        "print(imported_data[0])\n",
        "# TODO print how many resumees were read in\n",
        "print(len(imported_data))"
      ],
      "execution_count": 8,
      "outputs": [
        {
          "output_type": "stream",
          "text": [
            "{\"content\": \"Afreen Jamadar\\nActive member of IIIT Committee in Third year\\n\\nSangli, Maharashtra - Email me on Indeed: indeed.com/r/Afreen-Jamadar/8baf379b705e37c6\\n\\nI wish to use my knowledge, skills and conceptual understanding to create excellent team\\nenvironments and work consistently achieving organization objectives believes in taking initiative\\nand work to excellence in my work.\\n\\nWORK EXPERIENCE\\n\\nActive member of IIIT Committee in Third year\\n\\nCisco Networking -  Kanpur, Uttar Pradesh\\n\\norganized by Techkriti IIT Kanpur and Azure Skynet.\\nPERSONALLITY TRAITS:\\n• Quick learning ability\\n• hard working\\n\\nEDUCATION\\n\\nPG-DAC\\n\\nCDAC ACTS\\n\\n2017\\n\\nBachelor of Engg in Information Technology\\n\\nShivaji University Kolhapur -  Kolhapur, Maharashtra\\n\\n2016\\n\\nSKILLS\\n\\nDatabase (Less than 1 year), HTML (Less than 1 year), Linux. (Less than 1 year), MICROSOFT\\nACCESS (Less than 1 year), MICROSOFT WINDOWS (Less than 1 year)\\n\\nADDITIONAL INFORMATION\\n\\nTECHNICAL SKILLS:\\n\\n• Programming Languages: C, C++, Java, .net, php.\\n• Web Designing: HTML, XML\\n• Operating Systems: Windows […] Windows Server 2003, Linux.\\n• Database: MS Access, MS SQL Server 2008, Oracle 10g, MySql.\\n\\nhttps://www.indeed.com/r/Afreen-Jamadar/8baf379b705e37c6?isid=rex-download&ikw=download-top&co=IN\",\"annotation\":[{\"label\":[\"Email Address\"],\"points\":[{\"start\":1155,\"end\":1198,\"text\":\"indeed.com/r/Afreen-Jamadar/8baf379b705e37c6\"}]},{\"label\":[\"Links\"],\"points\":[{\"start\":1143,\"end\":1239,\"text\":\"https://www.indeed.com/r/Afreen-Jamadar/8baf379b705e37c6?isid=rex-download&ikw=download-top&co=IN\"}]},{\"label\":[\"Skills\"],\"points\":[{\"start\":743,\"end\":1140,\"text\":\"Database (Less than 1 year), HTML (Less than 1 year), Linux. (Less than 1 year), MICROSOFT\\nACCESS (Less than 1 year), MICROSOFT WINDOWS (Less than 1 year)\\n\\nADDITIONAL INFORMATION\\n\\nTECHNICAL SKILLS:\\n\\n• Programming Languages: C, C++, Java, .net, php.\\n• Web Designing: HTML, XML\\n• Operating Systems: Windows […] Windows Server 2003, Linux.\\n• Database: MS Access, MS SQL Server 2008, Oracle 10g, MySql.\"}]},{\"label\":[\"Graduation Year\"],\"points\":[{\"start\":729,\"end\":732,\"text\":\"2016\"}]},{\"label\":[\"College Name\"],\"points\":[{\"start\":675,\"end\":702,\"text\":\"Shivaji University Kolhapur \"}]},{\"label\":[\"Degree\"],\"points\":[{\"start\":631,\"end\":672,\"text\":\"Bachelor of Engg in Information Technology\"}]},{\"label\":[\"Graduation Year\"],\"points\":[{\"start\":625,\"end\":629,\"text\":\"2017\\n\"}]},{\"label\":[\"College Name\"],\"points\":[{\"start\":614,\"end\":622,\"text\":\"CDAC ACTS\"}]},{\"label\":[\"Degree\"],\"points\":[{\"start\":606,\"end\":611,\"text\":\"PG-DAC\"}]},{\"label\":[\"Companies worked at\"],\"points\":[{\"start\":438,\"end\":453,\"text\":\"Cisco Networking\"}]},{\"label\":[\"Email Address\"],\"points\":[{\"start\":104,\"end\":147,\"text\":\"indeed.com/r/Afreen-Jamadar/8baf379b705e37c6\"}]},{\"label\":[\"Location\"],\"points\":[{\"start\":62,\"end\":67,\"text\":\"Sangli\"}]},{\"label\":[\"Name\"],\"points\":[{\"start\":0,\"end\":13,\"text\":\"Afreen Jamadar\"}]}],\"extras\":null,\"metadata\":{\"first_done_at\":1527844872000,\"last_updated_at\":1537724086000,\"sec_taken\":0,\"last_updated_by\":\"BIQNZm4INNfvByMqkaVwVt6OZTv2\",\"status\":\"done\",\"evaluation\":\"CORRECT\"}}\n",
            "\n",
            "701\n"
          ],
          "name": "stdout"
        }
      ]
    },
    {
      "cell_type": "code",
      "metadata": {
        "id": "SxQojbZyPrkh"
      },
      "source": [
        "import json"
      ],
      "execution_count": 9,
      "outputs": []
    },
    {
      "cell_type": "code",
      "metadata": {
        "id": "Axwa389baXDN"
      },
      "source": [
        "mapped_data = [ json.loads( datum ) for datum in imported_data  ]"
      ],
      "execution_count": 10,
      "outputs": []
    },
    {
      "cell_type": "code",
      "metadata": {
        "colab": {
          "base_uri": "https://localhost:8080/"
        },
        "id": "d2FaAX-xabje",
        "outputId": "ce1e7576-0839-4698-f5b1-622941ec496d"
      },
      "source": [
        "## data conversion method\n",
        "def convert_data(data):\n",
        "    \"\"\"\n",
        "    Creates NER training data in Spacy format from JSON dataset\n",
        "    Outputs the Spacy training data which can be used for Spacy training.\n",
        "    \"\"\"\n",
        "    text = data['content']\n",
        "    entities = []\n",
        "    if data['annotation'] is not None:\n",
        "        for annotation in data['annotation']:\n",
        "            # only a single point in text annotation.\n",
        "            point = annotation['points'][0]\n",
        "            labels = annotation['label']\n",
        "            # handle both list of labels or a single label.\n",
        "            if not isinstance(labels, list):\n",
        "                labels = [labels]\n",
        "            for label in labels:\n",
        "                # dataturks indices are both inclusive [start, end] but spacy is not [start, end)\n",
        "                entities.append((point['start'], point['end'] + 1, label))\n",
        "    return (text, {\"entities\": entities})\n",
        "   \n",
        "## TODO using a loop or list comprehension, convert each resume in mapped_data using the convert function above, \n",
        "## storing the result\n",
        "converted_resumes = [convert_data(resume) for resume in mapped_data]\n",
        "## TODO print the number of resumes in converted resumes \n",
        "print( len(converted_resumes) )"
      ],
      "execution_count": 13,
      "outputs": [
        {
          "output_type": "stream",
          "text": [
            "701\n"
          ],
          "name": "stdout"
        }
      ]
    },
    {
      "cell_type": "code",
      "metadata": {
        "id": "GapDFuttaqpk"
      },
      "source": [
        "# TODO filter out the resumees whose entities have no entries.\n",
        "converted_complete_resumees = list( filter(lambda r: len(r[1]['entities']) > 0 , converted_resumes) )"
      ],
      "execution_count": 14,
      "outputs": []
    },
    {
      "cell_type": "markdown",
      "metadata": {
        "id": "1-UWPUvfbo0l"
      },
      "source": [
        "Up until now, you could reuse the code from the previous notebook, now, something new comes."
      ]
    },
    {
      "cell_type": "code",
      "metadata": {
        "colab": {
          "base_uri": "https://localhost:8080/"
        },
        "id": "CYhNshfBbl8d",
        "outputId": "457fa7b3-2554-4c91-e577-568744aceb1e"
      },
      "source": [
        "import spacy\n",
        "spacy.prefer_gpu()\n",
        "nlp = spacy.load('en')\n",
        "print(nlp)"
      ],
      "execution_count": 49,
      "outputs": [
        {
          "output_type": "stream",
          "text": [
            "<spacy.lang.en.English object at 0x7fb386637cd0>\n"
          ],
          "name": "stdout"
        }
      ]
    },
    {
      "cell_type": "markdown",
      "metadata": {
        "id": "9AqzhVdHb-xO"
      },
      "source": [
        "__nlp__ is Spacy's English language model. For this model, a pretrained NER-model exists."
      ]
    },
    {
      "cell_type": "code",
      "metadata": {
        "colab": {
          "base_uri": "https://localhost:8080/"
        },
        "id": "TDHFtX6Lb-CY",
        "outputId": "183ea3f4-d10b-44e7-e7eb-a001e1830256"
      },
      "source": [
        "ner = nlp.get_pipe('ner')\n",
        "labels = ner.labels\n",
        "print(labels)"
      ],
      "execution_count": 50,
      "outputs": [
        {
          "output_type": "stream",
          "text": [
            "('CARDINAL', 'DATE', 'EVENT', 'FAC', 'GPE', 'LANGUAGE', 'LAW', 'LOC', 'MONEY', 'NORP', 'ORDINAL', 'ORG', 'PERCENT', 'PERSON', 'PRODUCT', 'QUANTITY', 'TIME', 'WORK_OF_ART')\n"
          ],
          "name": "stdout"
        }
      ]
    },
    {
      "cell_type": "markdown",
      "metadata": {
        "id": "sBy9Uo20cZH2"
      },
      "source": [
        "__Question 1__: Explain the labels __GPE__, __FAC__, __NORP__.<br>\n",
        "Which of these labels from __ner__ do you think will Spacy recognize in the resumees?<br>\n",
        "__Task 1__: choose a resumee."
      ]
    },
    {
      "cell_type": "code",
      "metadata": {
        "colab": {
          "base_uri": "https://localhost:8080/"
        },
        "id": "_0mskJKlO7Xt",
        "outputId": "997c0aca-90dc-477e-850f-28b408528b23"
      },
      "source": [
        "print(\"GPE: \", spacy.explain('GPE'))\n",
        "print(\"FAC: \", spacy.explain('FAC'))\n",
        "print(\"NORP: \", spacy.explain('NORP'))"
      ],
      "execution_count": 51,
      "outputs": [
        {
          "output_type": "stream",
          "text": [
            "GPE:  Countries, cities, states\n",
            "FAC:  Buildings, airports, highways, bridges, etc.\n",
            "NORP:  Nationalities or religious or political groups\n"
          ],
          "name": "stdout"
        }
      ]
    },
    {
      "cell_type": "code",
      "metadata": {
        "colab": {
          "base_uri": "https://localhost:8080/"
        },
        "id": "4yXayIFffE7F",
        "outputId": "899cb0a1-ac27-4686-f545-935ab2418120"
      },
      "source": [
        "# TODO get a single resume text and print it out.\n",
        "restxt = converted_complete_resumees[42][0]\n",
        "## print it out, removing extraneous spaces\n",
        "print(\"\\n\".join(restxt.split('\\n\\n')))"
      ],
      "execution_count": 52,
      "outputs": [
        {
          "output_type": "stream",
          "text": [
            "Navas Koya\n",
            "Test Engineer\n",
            "Mangalore, Karnataka - Email me on Indeed: indeed.com/r/Navas-Koya/23c1e4e94779b465\n",
            "Willing to relocate to: Mangalore, Karnataka - Bangalore, Karnataka - Chennai, Tamil Nadu\n",
            "WORK EXPERIENCE\n",
            "System Engineer\n",
            "Infosys -\n",
            "August 2014 to Present\n",
            ".NET application Maintenance and do the code changes if required\n",
            "Test Engineer\n",
            "Infosys -\n",
            "June 2015 to February 2016\n",
            "PrProject 2:\n",
            "Title: RBS W&G Proving testing.\n",
            "Technology: Manual testing\n",
            "Role: Software Test Engineer\n",
            "Domain: Banking\n",
            "Description:\n",
            "Write test cases & descriptions. Review the entries. Upload and map the documents into\n",
            "HP QC. Execute the testing operations in TPROD mainframe. Upload the result in QC along with\n",
            "the proof.\n",
            "Roles and Responsibilities:\n",
            "•Prepared the Test Scenarios\n",
            "•Prepared and Executed Test Cases\n",
            "•Performed functional, Regression testing, Sanity testing.\n",
            "•Reviewed the Test Reports and Preparing Test Summary Report.\n",
            "•Upload Test cases to the QC.\n",
            "•Execute in TPROD Mainframe.\n",
            "•Defect Track and Report.\n",
            "Test Executive\n",
            "Infosys Limited -\n",
            "August 2014 to May 2015\n",
            "https://www.indeed.com/r/Navas-Koya/23c1e4e94779b465?isid=rex-download&ikw=download-top&co=IN\n",
            "\n",
            "Project 1:\n",
            "Title: CAWP (Compliance Automated Work Paper)\n",
            "Technology: Manual testing\n",
            "Role: Software Test Executive\n",
            "Domain: Banking\n",
            "Description:\n",
            "The Admin can create and maintain annual test plan, and users can only view and add\n",
            "details. Testers will get Business Requirement which explains the flows and Functional\n",
            "requirements which gives the full detail of the project.\n",
            "Roles and Responsibilities:\n",
            "•Prepared the Test Scenarios\n",
            "•Prepared and Executed Test Cases\n",
            "•Performed functional, Regression testing, Sanity testing.\n",
            "•Reviewed the Test Reports and Preparing Test Summary Report.\n",
            "•Defect Track and Report.\n",
            "EDUCATION\n",
            "Bachelor of Computer Applications\n",
            "Mangalore University, Mangalore\n",
            "June 2011 to April 2014\n",
            "SKILLS\n",
            "C# (Less than 1 year), .NET, SQL Server, Css, Html5\n",
            "ADDITIONAL INFORMATION\n",
            "Bachelor of computer application: with 74% from Milagres College, Kallianpur under\n",
            "Mangalore University, Karnataka.\n",
            "Navas Najeer Koya 2\n",
            "SKILL SET • ASP.NET, C# • QA tools\n",
            "• Coding and modularization • Excellent communication skills\n",
            "• VB, VB.net, ASP • Technical specifications creation\n",
            "• HTML • System backups\n",
            "• Sql server 2005, Oracle • System upgrades\n",
            "• Java/C/C++ • Excellent problem-solving abilities\n",
            "Navas Najeer Koya 3\n"
          ],
          "name": "stdout"
        }
      ]
    },
    {
      "cell_type": "markdown",
      "metadata": {
        "id": "m39CIXirJ5bv"
      },
      "source": [
        "Next, we let __nlp__ process that single resumee.<br>\n",
        "__Task 2__: print the results in __doc__. For each result, print the underlying text and the label."
      ]
    },
    {
      "cell_type": "code",
      "metadata": {
        "id": "cp961WAxfW8N",
        "colab": {
          "base_uri": "https://localhost:8080/"
        },
        "outputId": "b02bf9d5-e35b-4a10-c4a8-0ef7be477ca7"
      },
      "source": [
        "doc = nlp(restxt)\n",
        "# TODO  Print the results in doc. For each result, print the text and the label.\n",
        "print(f'{\"Text:\":<50} | {\"Label\":<30}')\n",
        "print(\"-\"*80)\n",
        "for token in doc.ents:\n",
        "  print(f'{token.text:<50} | {token.label_:<30}')"
      ],
      "execution_count": 53,
      "outputs": [
        {
          "output_type": "stream",
          "text": [
            "Text:                                              | Label                         \n",
            "--------------------------------------------------------------------------------\n",
            "Navas Koya                                         | PERSON                        \n",
            "Mangalore                                          | GPE                           \n",
            "Karnataka                                          | PERSON                        \n",
            "Karnataka                                          | PERSON                        \n",
            "Karnataka - Chennai                                | ORG                           \n",
            "Tamil Nadu                                         | PERSON                        \n",
            "System Engineer                                    | ORG                           \n",
            "Infosys                                            | GPE                           \n",
            "August 2014                                        | DATE                          \n",
            "Infosys                                            | GPE                           \n",
            "June 2015 to February 2016                         | DATE                          \n",
            "Roles                                              | PERSON                        \n",
            "•Prepared                                          | PERSON                        \n",
            "QC                                                 | LAW                           \n",
            "TPROD Mainframe                                    | GPE                           \n",
            "Test Executive                                     | ORG                           \n",
            "Infosys Limited -                                  | ORG                           \n",
            "August 2014                                        | DATE                          \n",
            "May 2015                                           | DATE                          \n",
            "Project 1                                          | CARDINAL                      \n",
            "Business Requirement                               | ORG                           \n",
            "Functional                                         | LOC                           \n",
            "Roles                                              | PERSON                        \n",
            "•Prepared                                          | PERSON                        \n",
            "Bachelor of Computer Applications\n",
            "\n",
            "                | ORG                           \n",
            "June 2011 to April 2014                            | DATE                          \n",
            "SKILLS                                             | ORG                           \n",
            "Less than 1 year                                   | DATE                          \n",
            "SQL                                                | ORG                           \n",
            "Server                                             | PRODUCT                       \n",
            "Css                                                | ORG                           \n",
            "74%                                                | PERCENT                       \n",
            "Milagres College                                   | ORG                           \n",
            "Kallianpur                                         | GPE                           \n",
            "Mangalore University                               | ORG                           \n",
            "Karnataka                                          | PERSON                        \n",
            "Navas Najeer                                       | PERSON                        \n",
            "2                                                  | CARDINAL                      \n",
            "ASP                                                | ORG                           \n",
            "Sql                                                | ORG                           \n",
            "2005                                               | DATE                          \n",
            "Oracle • System                                    | ORG                           \n",
            "Java/C/C++                                         | ORG                           \n",
            "Navas Najeer Koya                                  | PERSON                        \n",
            "3                                                  | CARDINAL                      \n"
          ],
          "name": "stdout"
        }
      ]
    },
    {
      "cell_type": "markdown",
      "metadata": {
        "id": "xok9PDMplMNe"
      },
      "source": [
        "__Question 2__: How well did Spacy perform at recognizing the labels for this text?<br>\n",
        "When Spacy predicted the labels for this resumee, a pretrained model was used.<br>\n",
        "__Task 3__: print for this resumee the original labels and their corresponding text."
      ]
    },
    {
      "cell_type": "code",
      "metadata": {
        "colab": {
          "base_uri": "https://localhost:8080/"
        },
        "id": "V8eIm9lXlznU",
        "outputId": "f8aee53e-b937-4aa0-efd1-a42ae28d2b74"
      },
      "source": [
        "# TODO print for that resumee the original labels and their corresponding text.\n",
        "\n",
        "labeled_ents = converted_complete_resumees[42][1]['entities']\n",
        "print(f'{\"Text:\":<50} | {\"Label\":<30}')\n",
        "print(\"-\"*80)\n",
        "text_body = converted_complete_resumees[42][0] \n",
        "for ent in labeled_ents:\n",
        "  start = ent[0]\n",
        "  end = ent[1]\n",
        "  label = ent[2]\n",
        "  text = text_body[start:end]\n",
        "  print(f'{text:<100} | {label:<30}')"
      ],
      "execution_count": 54,
      "outputs": [
        {
          "output_type": "stream",
          "text": [
            "Text:                                              | Label                         \n",
            "--------------------------------------------------------------------------------\n",
            "SKILL SET • ASP.NET, C# • QA tools\n",
            "\n",
            "• Coding and modularization • Excellent communication skills\n",
            "\n",
            "• VB, VB.net, ASP • Technical specifications creation\n",
            "\n",
            "• HTML • System backups\n",
            "\n",
            "• Sql server 2005, Oracle • System upgrades\n",
            "\n",
            "• Java/C/C++ • Excellent problem-solving abilities\n",
            "\n",
            "Navas Najeer Koya 3 | Skills                        \n",
            "C# (Less than 1 year), .NET, SQL Server, Css, Html5\n",
            "                                                 | Skills                        \n",
            "Bachelor of Computer Application                                                                     | Degree                        \n",
            "Infosys                                                                                              | Companies worked at           \n",
            "Infosys                                                                                              | Companies worked at           \n",
            "Infosys                                                                                              | Companies worked at           \n"
          ],
          "name": "stdout"
        }
      ]
    },
    {
      "cell_type": "markdown",
      "metadata": {
        "id": "aBHplvL2KHXO"
      },
      "source": [
        "__Question 3__: Compare the performance of the pretrained model __nlp__ and the true labels. Did Spacy perform well? If not, try to explain why.<br>\n",
        "__Task 4__: Remember last homework? You chose three labels. Select all the resumees, in which all three labels appear."
      ]
    },
    {
      "cell_type": "code",
      "metadata": {
        "colab": {
          "base_uri": "https://localhost:8080/"
        },
        "id": "wELEGAoEKDwf",
        "outputId": "8de838f4-c4b0-44c3-ce4c-dc51b9b1ad5e"
      },
      "source": [
        "# TODO fill in your chosen labels in chosen_entity_labels\n",
        "chosen_entity_labels = [ 'Degree', 'Companies worked at', 'Skills' ]\n",
        "\n",
        "## this method gathers all resumes which have all of the chosen entites above.\n",
        "def gather_candidates(dataset,entity_labels):\n",
        "    candidates = list()\n",
        "    for resume in dataset:\n",
        "        res_ent_labels = list(zip(*resume[1][\"entities\"]))[2]\n",
        "        if set(entity_labels).issubset(res_ent_labels):\n",
        "            candidates.append(resume)\n",
        "    return candidates\n",
        "\n",
        "training_data = gather_candidates( converted_complete_resumees, chosen_entity_labels )\n",
        "print(\"Gathered {} training examples\".format(len(training_data)))"
      ],
      "execution_count": 23,
      "outputs": [
        {
          "output_type": "stream",
          "text": [
            "Gathered 437 training examples\n"
          ],
          "name": "stdout"
        }
      ]
    },
    {
      "cell_type": "markdown",
      "metadata": {
        "id": "xSDI7dDDLBbW"
      },
      "source": [
        "__Task 5__: Next, we want to remove all other entities, since we only want to train NER for the three entities in __chosen_entity_labels__."
      ]
    },
    {
      "cell_type": "code",
      "metadata": {
        "id": "1DBr_VzxLNqe"
      },
      "source": [
        "## filter all annotation based on filter list\n",
        "def filter_ents(ents, filter):\n",
        "    filtered = [ent for ent in ents if ent[2] in filter]\n",
        "    return filtered\n",
        "\n",
        "## TODO use method above to remove all but relevant (chosen) entity annotations and store in X variable. X shall contain all\n",
        "## the resumees from training_data, but their entity annotations shall be filtered using the function from above.\n",
        "X = []\n",
        "for sample in training_data:\n",
        "  ents = sample[1][\"entities\"]\n",
        "  sample[1][\"entities\"] = filter_ents(ents, chosen_entity_labels)\n",
        "  X.append(sample)"
      ],
      "execution_count": 24,
      "outputs": []
    },
    {
      "cell_type": "markdown",
      "metadata": {
        "id": "IZpyxtX6NteV"
      },
      "source": [
        "__Task 6__: Some resumees cause trouble. We filter these out with the following lines of code.<br>\n",
        "First, use __add_label__ to add your chosen labels to the __ner__ model."
      ]
    },
    {
      "cell_type": "code",
      "metadata": {
        "colab": {
          "base_uri": "https://localhost:8080/"
        },
        "id": "RqwcgW_xX18e",
        "outputId": "b823390a-0f58-4d2e-b8b3-e32e24c4b026"
      },
      "source": [
        "from spacy.gold import GoldParse \n",
        "\n",
        "# TODO add your labels \n",
        "for entity_label in chosen_entity_labels:\n",
        "  ner.add_label(entity_label)\n",
        "\n",
        "\n",
        "nlp.begin_training()\n",
        "\n",
        "good = []\n",
        "\n",
        "for item in X:\n",
        "  \n",
        "  text = nlp.make_doc( item[ 0 ] )\n",
        "\n",
        "  try:\n",
        "    \n",
        "    gold = GoldParse( text, entities = item[ 1 ][ \"entities\" ] )\n",
        "\n",
        "  except:\n",
        "\n",
        "    continue\n",
        "  \n",
        "  try:\n",
        "    \n",
        "    nlp.update( [ text ], [ gold ], drop = 0.3 )\n",
        "\n",
        "  except:\n",
        "\n",
        "    pass\n",
        "\n",
        "  else:\n",
        "\n",
        "    good.append( item )\n",
        "\n",
        "print( \"Number of good samples: \" + str( len( good ) ) )\n",
        "\n",
        "print( \"\" )\n",
        "\n",
        "print( \"\" )\n",
        "\n",
        "print( \"Number of bad sampples: \" + str( len( X ) - len( good ) ) )"
      ],
      "execution_count": 55,
      "outputs": [
        {
          "output_type": "stream",
          "text": [
            "Number of good samples: 351\n",
            "\n",
            "\n",
            "Number of bad sampples: 86\n"
          ],
          "name": "stdout"
        }
      ]
    },
    {
      "cell_type": "markdown",
      "metadata": {
        "id": "obZ93SLzyFIe"
      },
      "source": [
        "For a machine learning model, it is essential to be able to generalize. Only a model, that can generalize well is able to process new data in a meaningful way. Therefore, one usually separates the data set into two sets: the training set and the test set. The training set is used to train the model. The test set is used to evaluate the performance of the model on unseen data."
      ]
    },
    {
      "cell_type": "code",
      "metadata": {
        "id": "k0XVZPTyyh4T"
      },
      "source": [
        "from sklearn.model_selection import train_test_split\n",
        "\n",
        "x_train, x_test, y_train, y_test = train_test_split( [ item[ 0 ] for item in good ], [ item[ 1 ] for item in good ], test_size = 0.3 )"
      ],
      "execution_count": 56,
      "outputs": []
    },
    {
      "cell_type": "markdown",
      "metadata": {
        "id": "3AcgIty-1otR"
      },
      "source": [
        "__Task 7__: Complete the following code. Shuffle __new_index__. Create the data sets __x_shuffled__ and __y_shuffled__. Use these to create minibatches, iterate over these minibatches, preprocess the data in a given minibatch using __nlp.make_doc__ and __GoldParse__. Employ __nlp.update__ to update the model using these preprocessed data."
      ]
    },
    {
      "cell_type": "code",
      "metadata": {
        "id": "zGLUALLr1rEp"
      },
      "source": [
        "import numpy as np\n",
        "nlp.begin_training()\n",
        "\n",
        "nr_of_batches = 39#9\n",
        "\n",
        "new_index = np.arange( len( x_train ) )\n",
        "\n",
        "x_data = np.array( x_train )\n",
        "\n",
        "y_data = np.array( y_train )\n",
        "\n",
        "rng = np.random.default_rng()\n",
        "for i in range( 20 ):\n",
        "  # TODO shuffle new_index\n",
        "  rng.shuffle(new_index)\n",
        "\n",
        "  x_shuffled = x_data[new_index] #TODO create x_shuffled from x_data by using the shuffled new_index\n",
        "  y_shuffled = y_data[new_index] #TODO create y_shuffled from y_data by using the shuffled new_index\n",
        "\n",
        "  # TODO\n",
        "  # divide the data in x_shuffled and y_shuffled into minibatches of identical size\n",
        "  x_minibatches = np.array_split(x_shuffled, nr_of_batches, axis=0)\n",
        "  y_minibatches = np.array_split(y_shuffled, nr_of_batches, axis=0)\n",
        "  \n",
        "  # iterate over these minibatches\n",
        "  for x_batch, y_batch in zip(x_minibatches, y_minibatches):\n",
        "    # preprocess the data in a minibatch using nlp.make_doc and GoldParse\n",
        "    x_prep = []\n",
        "    y_prep = []\n",
        "    for text, entities in zip(x_batch, y_batch):\n",
        "      doc = nlp.make_doc(str(text))\n",
        "      gold_annotations = GoldParse(doc, entities=list(entities[\"entities\"]))\n",
        "      x_prep.append(doc)\n",
        "      y_prep.append(gold_annotations)\n",
        "    \n",
        "    nlp.update(x_prep, y_prep, drop = 0.3)\n"
      ],
      "execution_count": 57,
      "outputs": []
    },
    {
      "cell_type": "markdown",
      "metadata": {
        "id": "PQSe2-BOYlWN"
      },
      "source": [
        "__Question 4__: Why did we shuffle the data?<br> \n",
        "Why did we employ mini batches?<br>\n",
        "Reasearch the term __epoch__ in machine learning. How many epochs of training do we employ?<br>\n",
        "__Task 8__: Next, we choose one resumee and print it."
      ]
    },
    {
      "cell_type": "code",
      "metadata": {
        "colab": {
          "base_uri": "https://localhost:8080/"
        },
        "id": "SFGKoHVXY1pL",
        "outputId": "2aa6cfd5-cdb3-4417-f90d-47ea67f05eb0"
      },
      "source": [
        "resume = x_train[42]\n",
        "\n",
        "print( resume )"
      ],
      "execution_count": 58,
      "outputs": [
        {
          "output_type": "stream",
          "text": [
            "Soumya Balan\n",
            "Soumya Balan - BE Computer Science - 3 yr Work Experience at\n",
            "Microsoft Corporation\n",
            "\n",
            "Thiruvananthapuram, Kerala - Email me on Indeed: indeed.com/r/Soumya-\n",
            "Balan/8c7fbb9917935f20\n",
            "\n",
            "➢ To work in a progressive organization where I can enhance my skills and learning to contribute\n",
            "to the success of the organization.\n",
            "\n",
            "Willing to relocate: Anywhere\n",
            "\n",
            "WORK EXPERIENCE\n",
            "\n",
            "Technical Support Engineer\n",
            "\n",
            "Microsoft iGTSC -  Bengaluru, Karnataka -\n",
            "\n",
            "July 2013 to October 2015\n",
            "\n",
            "Position: TECHNICAL SUPPORT ENGINEER\n",
            "\n",
            "Company: Microsoft Corporation - Microsoft India Global Technical Support Center (Microsoft\n",
            "IGTSC), Bangalore\n",
            "\n",
            "Years of Experience: 2 Years and 4 Months\n",
            "\n",
            "Responsibilities\n",
            "\n",
            "➢ Represent Microsoft and communicate with corporate customers via telephone, written\n",
            "correspondence, or electronic service regarding technically complex escalated problems\n",
            "identified in Microsoft software products, and manage relationships with those customers.\n",
            "\n",
            "➢ Manage not only the technically complex problems, but also politically charged situations\n",
            "requiring the highest level of customer skill.\n",
            "\n",
            "➢ Receive technically complex, critical or politically hot customer issues, and maintain ownership\n",
            "of issue until resolved completely.\n",
            "\n",
            "➢ Solve highly complex problems, involving broad, in-depth product knowledge or in-depth\n",
            "product specialty.\n",
            "\n",
            "➢ Use trace analysis, and other sophisticated tools to analyze problems and develop solutions\n",
            "to meet customer needs.\n",
            "\n",
            "➢ Lead triage meetings to share knowledge with other engineers and develop customer solutions\n",
            "efficiently.\n",
            "\n",
            "➢ Act as technical lead, mentor, and model for a team of engineers; provide direction to others,\n",
            "review solutions and articles, mentoring existing & aspiring Engineers.\n",
            "\n",
            "https://www.indeed.com/r/Soumya-Balan/8c7fbb9917935f20?isid=rex-download&ikw=download-top&co=IN\n",
            "https://www.indeed.com/r/Soumya-Balan/8c7fbb9917935f20?isid=rex-download&ikw=download-top&co=IN\n",
            "\n",
            "\n",
            "➢ Write technical articles for knowledge base.\n",
            "\n",
            "➢ Consult, collaborate and take escalations when necessary.\n",
            "\n",
            "➢ Maintain working knowledge of pre-release products and take ownership for improvement in\n",
            "key technical areas.\n",
            "\n",
            "➢ Manage customer escalations and recognize when to solicit additional help.\n",
            "Participate in technical discussions and engage with product team if required to resolve issues\n",
            "and represent customer segments.\n",
            "\n",
            "Exchange Server Knowledge\n",
            "\n",
            "➢ Exchange Server 2007\n",
            "➢ Exchange Server 2010\n",
            "➢ Exchange Server 2013\n",
            "➢ O365\n",
            "\n",
            "EDUCATION\n",
            "\n",
            "BE in Computer Science and Engineering\n",
            "\n",
            "Vivekananda Engineering College for Women -  Chennai, Tamil Nadu\n",
            "\n",
            "2013\n",
            "\n",
            "BTEC HNC in Aviation\n",
            "\n",
            "Frankfinn Institute of Airhostess Training -  Calicut, Kerala\n",
            "\n",
            "2008\n",
            "\n",
            "State Board +2\n",
            "\n",
            "2007\n",
            "\n",
            "SSLC\n",
            "\n",
            "State\n",
            "\n",
            "2005\n",
            "\n",
            "SKILLS\n",
            "\n",
            "DBMS, O365, Communication Skills, Exchange 2013, Hospitality, Networking, Computer\n",
            "Operating, Programming, Computer Hardware, Java, Exchange 2010, Teaching\n",
            "\n",
            "ADDITIONAL INFORMATION\n",
            "\n",
            "Skill Set\n",
            "➢ Excellent communication and interpersonal skills.\n",
            "\n",
            "\n",
            "\n",
            "➢ Proficient in Computer Applications -Microsoft Office Windows (Windows 2007, XP, 8, 8.1 and\n",
            "Windows 10), Linux, Fedora.\n",
            "➢ Strong analytical and problem solving skills.\n",
            "➢ Ability in managing a team of professionals and enjoy being in a team.\n",
            "\n",
            "Project Details\n",
            "\n",
            "UG PROJECT TITLE: Memory Bounded Anytime Heuristic Search A* Algorithm\n",
            "\n",
            "➢ This Project presents a heuristic-search algorithm called Memory-bounded Anytime Window A*\n",
            "(MAWA*), which is complete, anytime, and memory bounded. MAWA* uses the window-bounded\n",
            "anytime-search methodology of AWA* as the basic framework and combines it with the memory-\n",
            "bounded A* -like approach to handle restricted memory situations.\n",
            "Simple and efficient versions of MAWA* targeted for tree search have also been presented.\n",
            "Experimental results of the sliding-tile puzzle problem and the traveling-salesman problem show\n",
            "the significant advantages of the proposed algorithm over existing methods.\n",
            "\n",
            "Technical and Co-Curricular activities\n",
            "\n",
            "➢ Star Performer in Microsoft IGTSC in 2014.\n",
            "➢ Paper Presentations on Applications of Robotics in INOX 2K12.\n",
            "➢ Attended a Three-Day workshop on C and C++ Programming and Aliasing.\n",
            "➢ Attended a One-Day workshop on Java and Hardware Workshop at VECW\n",
            "➢ Paper presentation 4G Technologies, Cloud Computing, Heuristic Algorithms and Applications,\n",
            "Open Source Software.\n",
            "➢ Multimedia presentations on Artificial Intellegence, 6th Sense, and Robotics.\n",
            "➢ Completed training of OCA (9i, 10g) from Oracle University.\n",
            "➢ Attended SPARK training program in Infosys Mysore.\n",
            "➢ Attended System Hardware Training program at HCL, Pondicherry.\n"
          ],
          "name": "stdout"
        }
      ]
    },
    {
      "cell_type": "markdown",
      "metadata": {
        "id": "5iF_jyeVJ5b0"
      },
      "source": [
        "__Task 9__: we process this resumee using __nlp__. Print for all items in __doc.ents__ the predicted label and the corresponding text. Then print the correct labels and their corresponding text for that resumee with data from __y_test__."
      ]
    },
    {
      "cell_type": "code",
      "metadata": {
        "colab": {
          "base_uri": "https://localhost:8080/"
        },
        "id": "arAyrdyfbnQR",
        "outputId": "225688be-e83d-4633-fed6-c515bd8c6900"
      },
      "source": [
        "doc = nlp( resume )\n",
        "\n",
        "# TODO\n",
        "# print for all the items in doc.ents the predicted label and the corresponding text\n",
        "print(doc)\n",
        "for item in doc.ents:\n",
        "  print(item.text)\n",
        "  print(item.label_)\n",
        "  print('**'*80)\n",
        "\n",
        "\n",
        "\n",
        "# TODO\n",
        "# print the correct labels and their corresponding text for that resumee with data from y_test\n",
        "\n"
      ],
      "execution_count": 60,
      "outputs": [
        {
          "output_type": "stream",
          "text": [
            "Soumya Balan\n",
            "Soumya Balan - BE Computer Science - 3 yr Work Experience at\n",
            "Microsoft Corporation\n",
            "\n",
            "Thiruvananthapuram, Kerala - Email me on Indeed: indeed.com/r/Soumya-\n",
            "Balan/8c7fbb9917935f20\n",
            "\n",
            "➢ To work in a progressive organization where I can enhance my skills and learning to contribute\n",
            "to the success of the organization.\n",
            "\n",
            "Willing to relocate: Anywhere\n",
            "\n",
            "WORK EXPERIENCE\n",
            "\n",
            "Technical Support Engineer\n",
            "\n",
            "Microsoft iGTSC -  Bengaluru, Karnataka -\n",
            "\n",
            "July 2013 to October 2015\n",
            "\n",
            "Position: TECHNICAL SUPPORT ENGINEER\n",
            "\n",
            "Company: Microsoft Corporation - Microsoft India Global Technical Support Center (Microsoft\n",
            "IGTSC), Bangalore\n",
            "\n",
            "Years of Experience: 2 Years and 4 Months\n",
            "\n",
            "Responsibilities\n",
            "\n",
            "➢ Represent Microsoft and communicate with corporate customers via telephone, written\n",
            "correspondence, or electronic service regarding technically complex escalated problems\n",
            "identified in Microsoft software products, and manage relationships with those customers.\n",
            "\n",
            "➢ Manage not only the technically complex problems, but also politically charged situations\n",
            "requiring the highest level of customer skill.\n",
            "\n",
            "➢ Receive technically complex, critical or politically hot customer issues, and maintain ownership\n",
            "of issue until resolved completely.\n",
            "\n",
            "➢ Solve highly complex problems, involving broad, in-depth product knowledge or in-depth\n",
            "product specialty.\n",
            "\n",
            "➢ Use trace analysis, and other sophisticated tools to analyze problems and develop solutions\n",
            "to meet customer needs.\n",
            "\n",
            "➢ Lead triage meetings to share knowledge with other engineers and develop customer solutions\n",
            "efficiently.\n",
            "\n",
            "➢ Act as technical lead, mentor, and model for a team of engineers; provide direction to others,\n",
            "review solutions and articles, mentoring existing & aspiring Engineers.\n",
            "\n",
            "https://www.indeed.com/r/Soumya-Balan/8c7fbb9917935f20?isid=rex-download&ikw=download-top&co=IN\n",
            "https://www.indeed.com/r/Soumya-Balan/8c7fbb9917935f20?isid=rex-download&ikw=download-top&co=IN\n",
            "\n",
            "\n",
            "➢ Write technical articles for knowledge base.\n",
            "\n",
            "➢ Consult, collaborate and take escalations when necessary.\n",
            "\n",
            "➢ Maintain working knowledge of pre-release products and take ownership for improvement in\n",
            "key technical areas.\n",
            "\n",
            "➢ Manage customer escalations and recognize when to solicit additional help.\n",
            "Participate in technical discussions and engage with product team if required to resolve issues\n",
            "and represent customer segments.\n",
            "\n",
            "Exchange Server Knowledge\n",
            "\n",
            "➢ Exchange Server 2007\n",
            "➢ Exchange Server 2010\n",
            "➢ Exchange Server 2013\n",
            "➢ O365\n",
            "\n",
            "EDUCATION\n",
            "\n",
            "BE in Computer Science and Engineering\n",
            "\n",
            "Vivekananda Engineering College for Women -  Chennai, Tamil Nadu\n",
            "\n",
            "2013\n",
            "\n",
            "BTEC HNC in Aviation\n",
            "\n",
            "Frankfinn Institute of Airhostess Training -  Calicut, Kerala\n",
            "\n",
            "2008\n",
            "\n",
            "State Board +2\n",
            "\n",
            "2007\n",
            "\n",
            "SSLC\n",
            "\n",
            "State\n",
            "\n",
            "2005\n",
            "\n",
            "SKILLS\n",
            "\n",
            "DBMS, O365, Communication Skills, Exchange 2013, Hospitality, Networking, Computer\n",
            "Operating, Programming, Computer Hardware, Java, Exchange 2010, Teaching\n",
            "\n",
            "ADDITIONAL INFORMATION\n",
            "\n",
            "Skill Set\n",
            "➢ Excellent communication and interpersonal skills.\n",
            "\n",
            "\n",
            "\n",
            "➢ Proficient in Computer Applications -Microsoft Office Windows (Windows 2007, XP, 8, 8.1 and\n",
            "Windows 10), Linux, Fedora.\n",
            "➢ Strong analytical and problem solving skills.\n",
            "➢ Ability in managing a team of professionals and enjoy being in a team.\n",
            "\n",
            "Project Details\n",
            "\n",
            "UG PROJECT TITLE: Memory Bounded Anytime Heuristic Search A* Algorithm\n",
            "\n",
            "➢ This Project presents a heuristic-search algorithm called Memory-bounded Anytime Window A*\n",
            "(MAWA*), which is complete, anytime, and memory bounded. MAWA* uses the window-bounded\n",
            "anytime-search methodology of AWA* as the basic framework and combines it with the memory-\n",
            "bounded A* -like approach to handle restricted memory situations.\n",
            "Simple and efficient versions of MAWA* targeted for tree search have also been presented.\n",
            "Experimental results of the sliding-tile puzzle problem and the traveling-salesman problem show\n",
            "the significant advantages of the proposed algorithm over existing methods.\n",
            "\n",
            "Technical and Co-Curricular activities\n",
            "\n",
            "➢ Star Performer in Microsoft IGTSC in 2014.\n",
            "➢ Paper Presentations on Applications of Robotics in INOX 2K12.\n",
            "➢ Attended a Three-Day workshop on C and C++ Programming and Aliasing.\n",
            "➢ Attended a One-Day workshop on Java and Hardware Workshop at VECW\n",
            "➢ Paper presentation 4G Technologies, Cloud Computing, Heuristic Algorithms and Applications,\n",
            "Open Source Software.\n",
            "➢ Multimedia presentations on Artificial Intellegence, 6th Sense, and Robotics.\n",
            "➢ Completed training of OCA (9i, 10g) from Oracle University.\n",
            "➢ Attended SPARK training program in Infosys Mysore.\n",
            "➢ Attended System Hardware Training program at HCL, Pondicherry.\n",
            "Microsoft\n",
            "Companies worked at\n",
            "****************************************************************************************************************************************************************\n",
            "Microsoft India Global Technical Support Center (Microsoft\n",
            "Companies worked at\n",
            "****************************************************************************************************************************************************************\n"
          ],
          "name": "stdout"
        }
      ]
    },
    {
      "cell_type": "markdown",
      "metadata": {
        "id": "DTjZw4RVeB87"
      },
      "source": [
        "__Question 5__: What labels did the model predict correctly?<br> \n",
        "Where appeared problems?<br> \n",
        "How can you explain the problems?<br>\n",
        "__Question 6__: We can evaluate the performance of the model using 4 metrics: the __Accuracy__, the __Precision__, the __Recall__ and __F1__.<br>\n",
        "Inform yourself on these metrics. How are they defined? Explain the concept of __True Positive__, __True Negative__, __False Positive__ and __False Negative__. Use these to define  the __Accuracy__, the __Precision__, the __Recall__ and __F1__, and also give the formula for each of these.<br>\n",
        "__Task 10__: Complete the following code. Call __make_bilou_df__ with a resume from the test set and store result in __bilou_df__ variable."
      ]
    },
    {
      "cell_type": "code",
      "metadata": {
        "id": "W5M-ArsDtzFd",
        "scrolled": true
      },
      "source": [
        "from spacy.gold import biluo_tags_from_offsets\n",
        "import pandas as pd\n",
        "from IPython.display import display, HTML\n",
        "\n",
        "## returns a pandas dataframe with tokens, prediction, and true (Gold Standard) annotations of tokens\n",
        "def make_bilou_df(nlp,resume):\n",
        "    \"\"\"\n",
        "    param nlp - a trained spacy model\n",
        "    param resume - a resume from our train or test set\n",
        "    \"\"\"\n",
        "    doc = nlp(resume[0])\n",
        "    bilou_ents_predicted = biluo_tags_from_offsets(doc, [(ent.start_char,ent.end_char,ent.label_)for ent in doc.ents])\n",
        "    bilou_ents_true = biluo_tags_from_offsets(doc, [(ent[0], ent[1], ent[2]) for ent in resume[1][\"entities\"]])\n",
        "\n",
        "    \n",
        "    doc_tokens = [tok.text for tok in doc]\n",
        "    bilou_df = pd.DataFrame()\n",
        "    bilou_df[\"Tokens\"] =doc_tokens\n",
        "    bilou_df[\"Tokens\"] = bilou_df[\"Tokens\"].str.replace(\"\\\\s+\",\"\") \n",
        "    bilou_df[\"Predicted\"] = bilou_ents_predicted\n",
        "    bilou_df[\"True\"] = bilou_ents_true\n",
        "    return bilou_df\n",
        "\n",
        "## TODO call method above with a resume from test set and store result in bilou_df variable.\n",
        "bilou_df = make_bilou_df( nlp, None )\n",
        "display(bilou_df)  "
      ],
      "execution_count": null,
      "outputs": []
    },
    {
      "cell_type": "markdown",
      "metadata": {
        "id": "qGKyhMETJ5b1"
      },
      "source": [
        "Inform yourself on the [BILUO](https://spacy.io/usage/linguistic-features#accessing-ner) scheme.<br>\n",
        "__Question 7__: Why do you think is it better to tag entities using this scheme (consider names of humans, descriptions of items in a shop)?<br>\n",
        "__Task 11__: employ pandas dataframe api to get a subset where predicted and true labels are the same. Compute the accuracy using the formula you researched above."
      ]
    },
    {
      "cell_type": "code",
      "metadata": {
        "id": "HWRI3IfluPD7"
      },
      "source": [
        "## TODO bilou_df is a pandas dataframe. Use pandas dataframe api to get a subset where predicted and true are the same. \n",
        "same_df = None\n",
        "## TODO compute the accuracy \n",
        "accuracy = None\n",
        "\n",
        "print(\"Accuracy on one resume: \",accuracy)"
      ],
      "execution_count": null,
      "outputs": []
    },
    {
      "cell_type": "markdown",
      "metadata": {
        "id": "1P4EgefioE-Q"
      },
      "source": [
        "The __accuracy__ is not 100%. Therefore, we want to have a look at those tokens, where the predicted and the true value differ.<br>\n",
        "__Task 12__: create a dataframe diff_df where the predicted values and the true values differ"
      ]
    },
    {
      "cell_type": "code",
      "metadata": {
        "id": "DdHFX1cMn-r6"
      },
      "source": [
        "# TODO create a dataframe diff_df where the predicted values and the true values differ\n",
        "diff_df = None\n",
        "display(diff_df)"
      ],
      "execution_count": null,
      "outputs": []
    },
    {
      "cell_type": "markdown",
      "metadata": {
        "id": "OWvyiCokonUI"
      },
      "source": [
        "Since we only considered one resumee, we now make this comparison for the whole test set.<br>\n",
        "__Task 13__: Complete the following code for the computation of the overall accuracy."
      ]
    },
    {
      "cell_type": "code",
      "metadata": {
        "id": "bidqT9GjovAg"
      },
      "source": [
        "doc_accuracy = []\n",
        "\n",
        "for i in range( len( x_test ) ):\n",
        "\n",
        "  resume = None\n",
        "\n",
        "  bilou_df = make_bilou_df(nlp,resume)\n",
        "\n",
        "  same_df = None\n",
        "\n",
        "  doc_accuracy.append( None )\n",
        "\n",
        "total_acc = np.mean( doc_accuracy )\n",
        "print(\"Accuracy: \",total_acc)"
      ],
      "execution_count": null,
      "outputs": []
    },
    {
      "cell_type": "markdown",
      "metadata": {
        "id": "cL7GE3RQpzbg"
      },
      "source": [
        "So we got an __accuracy__ of about 90% on average. This is quite good considering, that we only considered about 300 cases for training.<br>\n",
        "__Task 14__: Next, we want to find out, what the model did, when it went wrong. We only consider 5 resumees.<br>\n",
        "Complete the following code."
      ]
    },
    {
      "cell_type": "code",
      "metadata": {
        "id": "Y02Pkxriq8GM"
      },
      "source": [
        "for i in range( 5 ):\n",
        "\n",
        "  resume = None\n",
        "\n",
        "  bilou_df = make_bilou_df(nlp,resume)\n",
        "\n",
        "  difference_df = None\n",
        "\n",
        "  # TODO: print, where the labels from Spacy and the annotation differ. Print the text, the predicted and the true labels."
      ],
      "execution_count": null,
      "outputs": []
    },
    {
      "cell_type": "markdown",
      "metadata": {
        "id": "0r21TdjPrt7P"
      },
      "source": [
        "__Question 8__: What was predicted, when the prediction differed from the true label?<br>\n",
        "What do you think is necessary for computing the accuracy on token level?<br> \n",
        "What is the advantage of computing the accuracy on token level?<br>\n",
        "__Task 15__: Complete the following code."
      ]
    },
    {
      "cell_type": "code",
      "metadata": {
        "colab": {
          "base_uri": "https://localhost:8080/",
          "height": 237
        },
        "id": "GZGOVg2U20V1",
        "outputId": "e0465c5f-efab-4e9f-b04f-8a891d8bd41b"
      },
      "source": [
        "## TODO cycle through chosen_entity_labels and calculate metrics for each entity using test data\n",
        "data = []\n",
        "for label in chosen_entity_labels:\n",
        "    ## variables to store results for all resumes for one entity type\n",
        "    true_positives = 0\n",
        "    false_positives = 0\n",
        "    false_negatives = 0\n",
        "    for i in range( len( x_test ) ):\n",
        "        ## use make_bilou_df on each resume in our test set, and calculate for each entity true and false positives,\n",
        "        ## and false negatives. \n",
        "\n",
        "        resume = None\n",
        "        \n",
        "        tres_df = make_bilou_df(nlp,resume)\n",
        "\n",
        "        ## calculate true false positives and false negatives for each resume\n",
        "        \n",
        "        tp = None\n",
        "        \n",
        "        fp = None\n",
        "        \n",
        "        fn = None\n",
        "\n",
        "        ## aggregate result for each resume to totals\n",
        "        true_positives = true_positives + None\n",
        "        false_positives = false_positives + None\n",
        "        false_negatives = false_negatives + None\n",
        "    \n",
        "    print(\"For label '{}' tp: {} fp: {} fn: {}\".format(label,true_positives,false_positives,false_negatives))\n",
        "    \n",
        "    ## TODO Use the formulas you learned to calculate metrics and print them out\n",
        "    ## also: prevent division by zero without raising errors. Explain your choice\n",
        "    \n",
        "    row = [label,precision,recall,f1]\n",
        "    data.append(row)\n",
        "\n",
        "## make pandas dataframe with metrics data. Use the chosen entity labels as an index, and the metric names as columns. \n",
        "metric_df = pd.DataFrame( data, columns = [ \"Label\", \"Precision\", \"Recall\", \"F1\" ] )\n",
        "display(metric_df)"
      ],
      "execution_count": 28,
      "outputs": [
        {
          "output_type": "error",
          "ename": "NameError",
          "evalue": "ignored",
          "traceback": [
            "\u001b[0;31m---------------------------------------------------------------------------\u001b[0m",
            "\u001b[0;31mNameError\u001b[0m                                 Traceback (most recent call last)",
            "\u001b[0;32m<ipython-input-28-90af23256aae>\u001b[0m in \u001b[0;36m<module>\u001b[0;34m()\u001b[0m\n\u001b[1;32m     12\u001b[0m         \u001b[0mresume\u001b[0m \u001b[0;34m=\u001b[0m \u001b[0;32mNone\u001b[0m\u001b[0;34m\u001b[0m\u001b[0;34m\u001b[0m\u001b[0m\n\u001b[1;32m     13\u001b[0m \u001b[0;34m\u001b[0m\u001b[0m\n\u001b[0;32m---> 14\u001b[0;31m         \u001b[0mtres_df\u001b[0m \u001b[0;34m=\u001b[0m \u001b[0mmake_bilou_df\u001b[0m\u001b[0;34m(\u001b[0m\u001b[0mnlp\u001b[0m\u001b[0;34m,\u001b[0m\u001b[0mresume\u001b[0m\u001b[0;34m)\u001b[0m\u001b[0;34m\u001b[0m\u001b[0;34m\u001b[0m\u001b[0m\n\u001b[0m\u001b[1;32m     15\u001b[0m \u001b[0;34m\u001b[0m\u001b[0m\n\u001b[1;32m     16\u001b[0m         \u001b[0;31m## calculate true false positives and false negatives for each resume\u001b[0m\u001b[0;34m\u001b[0m\u001b[0;34m\u001b[0m\u001b[0;34m\u001b[0m\u001b[0m\n",
            "\u001b[0;31mNameError\u001b[0m: name 'make_bilou_df' is not defined"
          ]
        }
      ]
    },
    {
      "cell_type": "markdown",
      "metadata": {
        "id": "rMKMlJswAqUZ"
      },
      "source": [
        "__Question 9__: Explain from these statistics how well __nlp__ performs.<br>\n",
        "__Task 16__: Compute for each metric (Precision, Recall, F1) the mean values."
      ]
    },
    {
      "cell_type": "code",
      "metadata": {
        "id": "5_gEZTQy5KTr"
      },
      "source": [
        "for label in [ \"Precision\", \"Recall\", \"F1\" ]:\n",
        "    \n",
        "    # Compute mean and print"
      ],
      "execution_count": null,
      "outputs": []
    },
    {
      "cell_type": "markdown",
      "metadata": {
        "id": "2Q1rvvhfBoN9"
      },
      "source": [
        "__Question 10__: What do you learn, when you compare the performance of the model on the token level with the performance of the model on the global level from above?<br>\n",
        "Next, we prepare data for flair."
      ]
    },
    {
      "cell_type": "code",
      "metadata": {
        "id": "7vkzBYIlDbLe"
      },
      "source": [
        "train = [ [ x_train[ i ], y_train[ i ] ] for i in range( len( x_train ) ) ]\n",
        "\n",
        "test = [ [ x_test[ i ], y_test[ i ] ] for i in range( len( x_test ) ) ]"
      ],
      "execution_count": null,
      "outputs": []
    },
    {
      "cell_type": "markdown",
      "metadata": {
        "id": "r5NC7MIJJ5b6"
      },
      "source": [
        "__Task 17__: Complete the following code."
      ]
    },
    {
      "cell_type": "code",
      "metadata": {
        "id": "NBfdFr1qNKBv"
      },
      "source": [
        "# prepare data\n",
        "training_data_as_bilou = [make_bilou_df(nlp,res) for res in train]\n",
        "\n",
        "test_data_as_bilou = [make_bilou_df(nlp,res) for res in test]\n",
        "\n",
        "\n",
        "# set up paths\n",
        "path_to_training_file = os.getcwd() + \"/training_data.csv\"\n",
        "\n",
        "path_to_test_file = os.getcwd() + \"/test_data.csv\"\n",
        "\n",
        "\n",
        "\n",
        "# make sure, that if the corresponding files exist, they are emptied\n",
        "if os.path.isfile( path_to_training_file ):\n",
        "\n",
        "  open( path_to_training_file, \"w\" ).close()\n",
        "\n",
        "if os.path.isfile( path_to_test_file ):\n",
        "\n",
        "  open( path_to_test_file, \"w\" ).close()\n",
        "\n",
        "\n",
        "# open empty files\n",
        "training_file = open( path_to_training_file, \"a\", encoding = \"utf-8\" )\n",
        "    \n",
        "test_file = open( path_to_test_file, \"a\", encoding = \"utf-8\" )\n",
        "\n",
        "\n",
        "for item in training_data_as_bilou:\n",
        "\n",
        "  # TODO remove all tokens like \"\", \" \", \"\\n\" by ignoring them\n",
        "  # for all other tokens do the following:\n",
        "  # create a string s: s = token + \" \" + label + \"\\n\"\n",
        "  # if the label is \"-\", then write s = token + \" O\\n\"\n",
        "  #\n",
        "  # write this newly created string to file\n",
        "  # if this newly created string contains \".\", then also write a \n",
        "  # newline to file that only contains \"\\n\"\n",
        "  #\n",
        "  # Using this scheme, each line in the resulting files corresponds either to an empty line or a token.\n",
        "  # Flair assembles a block of nonempty lines into a sentence. Therefore, the empty line\n",
        "  # is a signal for Flair that the current sentence is finished. Therefore, we extracted\n",
        "  # the whitespaces above.\n",
        "\n",
        "for item in test_data_as_bilou:\n",
        "    \n",
        "  # TODO the same as above.\n",
        "\n",
        "\n",
        "training_file.close()\n",
        "\n",
        "test_file.close()"
      ],
      "execution_count": null,
      "outputs": []
    },
    {
      "cell_type": "markdown",
      "metadata": {
        "id": "-V5trnr4gXa9"
      },
      "source": [
        "Start Flair"
      ]
    },
    {
      "cell_type": "code",
      "metadata": {
        "id": "630pwinWhXWo"
      },
      "source": [
        "pip install flair"
      ],
      "execution_count": null,
      "outputs": []
    },
    {
      "cell_type": "code",
      "metadata": {
        "id": "UKoPUsQGgaEE"
      },
      "source": [
        "from flair.data import Corpus\n",
        "from flair.data_fetcher import NLPTaskDataFetcher\n",
        "\n",
        "\n",
        "# your training file name\n",
        "data_folder = os.getcwd() \n",
        "\n",
        "train_file = \"training_data.csv\"\n",
        "\n",
        "# your training file name\n",
        "test_file = \"test_data.csv\"\n",
        "\n",
        "# when we wrote the data files, each row was either empty to signal the end\n",
        "# of a sentence to Flair, or the line contained a token, a white space and a label.\n",
        "# In the next line, we assign, that the token is the \"text\", and that the label is \n",
        "# \"ner\" label\n",
        "columns =  {0: 'text', 1: 'ner'}\n",
        "\n",
        "## Now load our csv into flair corpus\n",
        "corpus = NLPTaskDataFetcher.load_column_corpus(data_folder,column_format=columns,\n",
        "                                               train_file=train_file,\n",
        "                                               test_file=test_file)\n",
        "print(corpus)"
      ],
      "execution_count": null,
      "outputs": []
    }
  ]
}